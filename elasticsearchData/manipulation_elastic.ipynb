{
 "cells": [
  {
   "cell_type": "code",
   "execution_count": 20,
   "outputs": [
    {
     "name": "stdout",
     "output_type": "stream",
     "text": [
      "Result data saved to result.json\n"
     ]
    }
   ],
   "source": [
    "import json\n",
    "\n",
    "# Read the original data from the JSON file\n",
    "with open(\"modified_data.json\", \"r\") as file:\n",
    "    original_data = json.load(file)\n",
    "\n",
    "# Loop through the original dataset and create the desired list of dictionaries\n",
    "result_data = []\n",
    "for data in original_data:\n",
    "    result_data.append({\n",
    "        \"index\": {\n",
    "            \"_index\": \"restaurants\",\n",
    "            \"_id\": data[\"id\"]\n",
    "        }\n",
    "    })\n",
    "    result_data.append({\n",
    "        \"id\": data[\"id\"],\n",
    "        \"cuisine\": data[\"cuisine\"]\n",
    "    })\n",
    "\n",
    "# Save the result data to a new JSON file\n",
    "with open(\"result.json\", \"w\") as file:\n",
    "    for document in result_data:\n",
    "        file.write(json.dumps(document) + \"\\n\")\n",
    "        file.flush()\n",
    "\n",
    "# Print a message to indicate that the file was saved\n",
    "print(\"Result data saved to result.json\")\n"
   ],
   "metadata": {
    "collapsed": false
   }
  },
  {
   "cell_type": "code",
   "execution_count": null,
   "outputs": [],
   "source": [],
   "metadata": {
    "collapsed": false
   }
  },
  {
   "cell_type": "code",
   "execution_count": null,
   "outputs": [],
   "source": [],
   "metadata": {
    "collapsed": false
   }
  },
  {
   "cell_type": "code",
   "execution_count": null,
   "outputs": [],
   "source": [],
   "metadata": {
    "collapsed": false
   }
  },
  {
   "cell_type": "code",
   "execution_count": null,
   "outputs": [],
   "source": [],
   "metadata": {
    "collapsed": false
   }
  },
  {
   "cell_type": "code",
   "execution_count": null,
   "outputs": [],
   "source": [],
   "metadata": {
    "collapsed": false
   }
  }
 ],
 "metadata": {
  "kernelspec": {
   "display_name": "Python 3",
   "language": "python",
   "name": "python3"
  },
  "language_info": {
   "codemirror_mode": {
    "name": "ipython",
    "version": 2
   },
   "file_extension": ".py",
   "mimetype": "text/x-python",
   "name": "python",
   "nbconvert_exporter": "python",
   "pygments_lexer": "ipython2",
   "version": "2.7.6"
  }
 },
 "nbformat": 4,
 "nbformat_minor": 0
}
