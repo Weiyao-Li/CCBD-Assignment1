{
 "cells": [
  {
   "cell_type": "code",
   "execution_count": 1,
   "id": "05321332",
   "metadata": {},
   "outputs": [],
   "source": [
    "import os\n",
    "import json\n",
    "\n",
    "\n",
    "folder_path = \"/Users/weiyaoli/Desktop/CCBD-Assignment1/Yelpdataset\"\n",
    "\n",
    "\n",
    "combined_data = {}\n",
    "\n",
    "files=[ 'italian_data.json', 'ethiopian_data.json','chinese_data.json', 'american_data.json', 'mexican_data.json', 'japanese_data.json', 'indian_data.json','french_data.json','spanish_data.json']\n",
    "\n",
    "result = list()\n",
    "for f1 in files:\n",
    "    with open(f1, 'r') as infile:\n",
    "        result.extend(json.load(infile))\n",
    "\n",
    "with open('data.json', 'w') as output_file:\n",
    "    json.dump(result, output_file)\n",
    "\n"
   ]
  },
  {
   "cell_type": "code",
   "execution_count": null,
   "id": "75246f27",
   "metadata": {},
   "outputs": [],
   "source": []
  }
 ],
 "metadata": {
  "kernelspec": {
   "display_name": "Python 3 (ipykernel)",
   "language": "python",
   "name": "python3"
  },
  "language_info": {
   "codemirror_mode": {
    "name": "ipython",
    "version": 3
   },
   "file_extension": ".py",
   "mimetype": "text/x-python",
   "name": "python",
   "nbconvert_exporter": "python",
   "pygments_lexer": "ipython3",
   "version": "3.9.12"
  }
 },
 "nbformat": 4,
 "nbformat_minor": 5
}
