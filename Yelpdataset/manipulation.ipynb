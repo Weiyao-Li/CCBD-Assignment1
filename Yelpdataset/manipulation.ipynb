{
 "cells": [
  {
   "cell_type": "code",
   "execution_count": 6,
   "outputs": [
    {
     "name": "stdout",
     "output_type": "stream",
     "text": [
      "old rows = 7774\n",
      "                          id  \\\n",
      "0     hdiuRS9sVZSMReZm4oV5SA   \n",
      "1     16ZnHpuaaBt92XWeJHCC5A   \n",
      "2     DoSU8IPq-Py_YV3kYmXPfQ   \n",
      "3     OWNmOq-TAsHjGcYdCVclSw   \n",
      "4     vjubSxmdG_HoBBgd39geBw   \n",
      "...                      ...   \n",
      "7766  sshS0FJ6tKkmLCcEKXyVkA   \n",
      "7769  iVjmB-Ei6s5oljif0VQxvQ   \n",
      "7771  co7xTKlReWfp-f5HbEeK0w   \n",
      "7772  b8J-hvOyE9D7fc0sFJ8HUA   \n",
      "7773  kKRzPQD6XF5Nx3pX2R8NIw   \n",
      "\n",
      "                                                   name  review_count  rating  \\\n",
      "0                                             Da Andrea          1822     4.5   \n",
      "1                                            Olio e Più          4035     4.5   \n",
      "2                                   Trattoria Trecolori          2607     4.0   \n",
      "3                                       Osteria La Baia            68     4.5   \n",
      "4                                             Nino's 46          1353     4.0   \n",
      "...                                                 ...           ...     ...   \n",
      "7766  El Tepeyac Food Market: Carniceria, Grocery & ...            56     4.5   \n",
      "7769                                Terrace Coffee Shop           143     3.0   \n",
      "7771                                       Latin Cabana           283     3.5   \n",
      "7772                                     Surfish Bistro           419     4.0   \n",
      "7773                                        Chinelos II            84     3.5   \n",
      "\n",
      "      cuisine                address              city zip_code   latitude  \\\n",
      "0     italian         35 W 13th St            New York    10011  40.736218   \n",
      "1     italian      3 Greenwich Ave            New York    10014  40.733798   \n",
      "2     italian     254 West 47th St            New York    10036  40.759876   \n",
      "3     italian        129 W 52nd St            New York    10019  40.761896   \n",
      "4     italian         39 W 46th St            New York    10036  40.756905   \n",
      "...       ...                    ...               ...      ...        ...   \n",
      "7766  spanish  1621A Lexington Ave            New York    10029  40.789743   \n",
      "7769  spanish          598 19th St            Brooklyn    11218  40.654417   \n",
      "7771  spanish    34-15 Steinway St    Long Island City    11101  40.756177   \n",
      "7772  spanish          550 3rd Ave            Brooklyn    11215  40.668701   \n",
      "7773  spanish       530 W 136th St            New York    10031  40.820330   \n",
      "\n",
      "      longitude  \n",
      "0    -73.995970  \n",
      "1    -73.999774  \n",
      "2    -73.986767  \n",
      "3    -73.980675  \n",
      "4    -73.980516  \n",
      "...         ...  \n",
      "7766 -73.947903  \n",
      "7769 -73.979346  \n",
      "7771 -73.921110  \n",
      "7772 -73.993605  \n",
      "7773 -73.953780  \n",
      "\n",
      "[5371 rows x 10 columns]\n",
      "new rows =  5371\n"
     ]
    }
   ],
   "source": [
    "import pandas as pd\n",
    "import json\n",
    "\n",
    "# Load the JSON file into a pandas DataFrame\n",
    "with open('data.json') as f:\n",
    "    data = json.load(f)\n",
    "    df = pd.DataFrame(data)\n",
    "print(\"old rows =\", df.shape[0])\n",
    "\n",
    "# Extract the necessary columns\n",
    "df = df[['id', 'name', 'location', 'coordinates', 'review_count', 'rating', 'cuisine']]\n",
    "\n",
    "# Extract the necessary fields from the 'location' column\n",
    "df['address1'] = df['location'].apply(lambda x: x.get('address1', ''))\n",
    "df['address2'] = df['location'].apply(lambda x: x.get('address2', ''))\n",
    "df['address3'] = df['location'].apply(lambda x: x.get('address3', ''))\n",
    "df['address'] = df['address1'] + ' ' + df['address2'].fillna('') + ' ' + df['address3'].fillna('')\n",
    "df['city'] = df['location'].apply(lambda x: x.get('city', ''))\n",
    "df['zip_code'] = df['location'].apply(lambda x: x.get('zip_code', ''))\n",
    "\n",
    "# Extract the necessary fields from the 'coordinates' column\n",
    "df['latitude'] = df['coordinates'].apply(lambda x: x.get('latitude', ''))\n",
    "df['longitude'] = df['coordinates'].apply(lambda x: x.get('longitude', ''))\n",
    "\n",
    "# Drop the 'location', 'coordinates', and 'address1', 'address2', 'address3' columns\n",
    "df = df.drop(['location', 'coordinates', 'address1', 'address2', 'address3'], axis=1)\n",
    "\n",
    "# Drop any rows with missing \"id\" values\n",
    "df.dropna(subset=['id'], inplace=True)\n",
    "\n",
    "# Drop any duplicate rows based on the \"id\" column\n",
    "df.drop_duplicates(subset=['id'], inplace=True)\n",
    "\n",
    "# Print the resulting DataFrame\n",
    "print(df)\n",
    "print(\"new rows = \", df.shape[0])"
   ],
   "metadata": {
    "collapsed": false
   }
  },
  {
   "cell_type": "code",
   "execution_count": null,
   "outputs": [],
   "source": [],
   "metadata": {
    "collapsed": false
   }
  },
  {
   "cell_type": "code",
   "execution_count": 7,
   "outputs": [],
   "source": [
    "# Write the modified DataFrame to a new JSON file\n",
    "df.to_json('modified_data.json', orient='records')"
   ],
   "metadata": {
    "collapsed": false
   }
  },
  {
   "cell_type": "code",
   "execution_count": null,
   "outputs": [],
   "source": [
    "\n"
   ],
   "metadata": {
    "collapsed": false
   }
  },
  {
   "cell_type": "code",
   "execution_count": null,
   "outputs": [],
   "source": [],
   "metadata": {
    "collapsed": false
   }
  },
  {
   "cell_type": "code",
   "execution_count": null,
   "outputs": [],
   "source": [],
   "metadata": {
    "collapsed": false
   }
  },
  {
   "cell_type": "code",
   "execution_count": null,
   "outputs": [],
   "source": [],
   "metadata": {
    "collapsed": false
   }
  },
  {
   "cell_type": "code",
   "execution_count": null,
   "outputs": [],
   "source": [],
   "metadata": {
    "collapsed": false
   }
  }
 ],
 "metadata": {
  "kernelspec": {
   "display_name": "Python 3",
   "language": "python",
   "name": "python3"
  },
  "language_info": {
   "codemirror_mode": {
    "name": "ipython",
    "version": 2
   },
   "file_extension": ".py",
   "mimetype": "text/x-python",
   "name": "python",
   "nbconvert_exporter": "python",
   "pygments_lexer": "ipython2",
   "version": "2.7.6"
  }
 },
 "nbformat": 4,
 "nbformat_minor": 0
}
